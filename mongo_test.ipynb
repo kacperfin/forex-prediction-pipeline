{
 "cells": [
  {
   "metadata": {
    "ExecuteTime": {
     "end_time": "2025-06-05T23:52:24.607878Z",
     "start_time": "2025-06-05T23:52:24.601921Z"
    }
   },
   "cell_type": "code",
   "source": [
    "from mongo import MongoClient\n",
    "\n",
    "client = MongoClient()"
   ],
   "id": "1c2e9cad37e8a971",
   "outputs": [],
   "execution_count": 24
  },
  {
   "metadata": {
    "ExecuteTime": {
     "end_time": "2025-06-06T00:43:32.601109Z",
     "start_time": "2025-06-06T00:43:32.588239Z"
    }
   },
   "cell_type": "code",
   "source": [
    "df = client.get_processed_data()\n",
    "df.to_csv('data_new.csv')"
   ],
   "id": "initial_id",
   "outputs": [],
   "execution_count": 62
  },
  {
   "metadata": {
    "ExecuteTime": {
     "end_time": "2025-06-06T00:43:33.819653Z",
     "start_time": "2025-06-06T00:43:33.785518Z"
    }
   },
   "cell_type": "code",
   "source": "df",
   "id": "abb7e2ab02244a0",
   "outputs": [
    {
     "data": {
      "text/plain": [
       "     ('Datetime', '')  EURPLN=X_Close  GBPPLN=X_Close  USDPLN=X_Close  \\\n",
       "0 2025-06-05 21:00:00         4.27930         5.07170         3.73911   \n",
       "1 2025-06-05 22:00:00         4.27930         5.06668         3.73560   \n",
       "2 2025-06-05 23:00:00         4.27677         5.07014         3.73640   \n",
       "3 2025-06-06 00:00:00         4.27810         5.07295         3.73520   \n",
       "\n",
       "   EURPLN=X_High  GBPPLN=X_High  USDPLN=X_High  EURPLN=X_Low  GBPPLN=X_Low  \\\n",
       "0         4.2813         5.0781        3.74080       4.27850       5.04139   \n",
       "1         4.2793         5.0758        3.73955       4.27920       5.06578   \n",
       "2         4.2804         5.0758        3.73870       4.27479       5.06752   \n",
       "3         4.2813         5.0773        3.73730       4.27641       5.07084   \n",
       "\n",
       "   USDPLN=X_Low  ...  reddit_title_sentiment_mean  reddit_title_sentiment_std  \\\n",
       "0       3.73451  ...                     0.040005                    0.147309   \n",
       "1       3.73480  ...                     0.065909                    0.164534   \n",
       "2       3.73250  ...                     0.111743                    0.252745   \n",
       "3       3.73190  ...                     0.121117                    0.215572   \n",
       "\n",
       "   reddit_title_sentiment_count  reddit_score_mean  reddit_score_sum  \\\n",
       "0                            41          78.902439              3235   \n",
       "1                            20           5.100000               102   \n",
       "2                            23           8.521739               196   \n",
       "3                            16           3.562500                57   \n",
       "\n",
       "   reddit_score_max  reddit_num_comments_mean  reddit_num_comments_sum  \\\n",
       "0              1269                 15.682927                      643   \n",
       "1                42                 10.500000                      210   \n",
       "2                59                  8.565217                      197   \n",
       "3                14                  5.875000                       94   \n",
       "\n",
       "   reddit_upvote_ratio_mean  fear_greed  \n",
       "0                  0.793902   58.371429  \n",
       "1                  0.643000   58.371429  \n",
       "2                  0.759565   58.371429  \n",
       "3                  0.858125   58.371429  \n",
       "\n",
       "[4 rows x 62 columns]"
      ],
      "text/html": [
       "<div>\n",
       "<style scoped>\n",
       "    .dataframe tbody tr th:only-of-type {\n",
       "        vertical-align: middle;\n",
       "    }\n",
       "\n",
       "    .dataframe tbody tr th {\n",
       "        vertical-align: top;\n",
       "    }\n",
       "\n",
       "    .dataframe thead th {\n",
       "        text-align: right;\n",
       "    }\n",
       "</style>\n",
       "<table border=\"1\" class=\"dataframe\">\n",
       "  <thead>\n",
       "    <tr style=\"text-align: right;\">\n",
       "      <th></th>\n",
       "      <th>('Datetime', '')</th>\n",
       "      <th>EURPLN=X_Close</th>\n",
       "      <th>GBPPLN=X_Close</th>\n",
       "      <th>USDPLN=X_Close</th>\n",
       "      <th>EURPLN=X_High</th>\n",
       "      <th>GBPPLN=X_High</th>\n",
       "      <th>USDPLN=X_High</th>\n",
       "      <th>EURPLN=X_Low</th>\n",
       "      <th>GBPPLN=X_Low</th>\n",
       "      <th>USDPLN=X_Low</th>\n",
       "      <th>...</th>\n",
       "      <th>reddit_title_sentiment_mean</th>\n",
       "      <th>reddit_title_sentiment_std</th>\n",
       "      <th>reddit_title_sentiment_count</th>\n",
       "      <th>reddit_score_mean</th>\n",
       "      <th>reddit_score_sum</th>\n",
       "      <th>reddit_score_max</th>\n",
       "      <th>reddit_num_comments_mean</th>\n",
       "      <th>reddit_num_comments_sum</th>\n",
       "      <th>reddit_upvote_ratio_mean</th>\n",
       "      <th>fear_greed</th>\n",
       "    </tr>\n",
       "  </thead>\n",
       "  <tbody>\n",
       "    <tr>\n",
       "      <th>0</th>\n",
       "      <td>2025-06-05 21:00:00</td>\n",
       "      <td>4.27930</td>\n",
       "      <td>5.07170</td>\n",
       "      <td>3.73911</td>\n",
       "      <td>4.2813</td>\n",
       "      <td>5.0781</td>\n",
       "      <td>3.74080</td>\n",
       "      <td>4.27850</td>\n",
       "      <td>5.04139</td>\n",
       "      <td>3.73451</td>\n",
       "      <td>...</td>\n",
       "      <td>0.040005</td>\n",
       "      <td>0.147309</td>\n",
       "      <td>41</td>\n",
       "      <td>78.902439</td>\n",
       "      <td>3235</td>\n",
       "      <td>1269</td>\n",
       "      <td>15.682927</td>\n",
       "      <td>643</td>\n",
       "      <td>0.793902</td>\n",
       "      <td>58.371429</td>\n",
       "    </tr>\n",
       "    <tr>\n",
       "      <th>1</th>\n",
       "      <td>2025-06-05 22:00:00</td>\n",
       "      <td>4.27930</td>\n",
       "      <td>5.06668</td>\n",
       "      <td>3.73560</td>\n",
       "      <td>4.2793</td>\n",
       "      <td>5.0758</td>\n",
       "      <td>3.73955</td>\n",
       "      <td>4.27920</td>\n",
       "      <td>5.06578</td>\n",
       "      <td>3.73480</td>\n",
       "      <td>...</td>\n",
       "      <td>0.065909</td>\n",
       "      <td>0.164534</td>\n",
       "      <td>20</td>\n",
       "      <td>5.100000</td>\n",
       "      <td>102</td>\n",
       "      <td>42</td>\n",
       "      <td>10.500000</td>\n",
       "      <td>210</td>\n",
       "      <td>0.643000</td>\n",
       "      <td>58.371429</td>\n",
       "    </tr>\n",
       "    <tr>\n",
       "      <th>2</th>\n",
       "      <td>2025-06-05 23:00:00</td>\n",
       "      <td>4.27677</td>\n",
       "      <td>5.07014</td>\n",
       "      <td>3.73640</td>\n",
       "      <td>4.2804</td>\n",
       "      <td>5.0758</td>\n",
       "      <td>3.73870</td>\n",
       "      <td>4.27479</td>\n",
       "      <td>5.06752</td>\n",
       "      <td>3.73250</td>\n",
       "      <td>...</td>\n",
       "      <td>0.111743</td>\n",
       "      <td>0.252745</td>\n",
       "      <td>23</td>\n",
       "      <td>8.521739</td>\n",
       "      <td>196</td>\n",
       "      <td>59</td>\n",
       "      <td>8.565217</td>\n",
       "      <td>197</td>\n",
       "      <td>0.759565</td>\n",
       "      <td>58.371429</td>\n",
       "    </tr>\n",
       "    <tr>\n",
       "      <th>3</th>\n",
       "      <td>2025-06-06 00:00:00</td>\n",
       "      <td>4.27810</td>\n",
       "      <td>5.07295</td>\n",
       "      <td>3.73520</td>\n",
       "      <td>4.2813</td>\n",
       "      <td>5.0773</td>\n",
       "      <td>3.73730</td>\n",
       "      <td>4.27641</td>\n",
       "      <td>5.07084</td>\n",
       "      <td>3.73190</td>\n",
       "      <td>...</td>\n",
       "      <td>0.121117</td>\n",
       "      <td>0.215572</td>\n",
       "      <td>16</td>\n",
       "      <td>3.562500</td>\n",
       "      <td>57</td>\n",
       "      <td>14</td>\n",
       "      <td>5.875000</td>\n",
       "      <td>94</td>\n",
       "      <td>0.858125</td>\n",
       "      <td>58.371429</td>\n",
       "    </tr>\n",
       "  </tbody>\n",
       "</table>\n",
       "<p>4 rows × 62 columns</p>\n",
       "</div>"
      ]
     },
     "execution_count": 63,
     "metadata": {},
     "output_type": "execute_result"
    }
   ],
   "execution_count": 63
  },
  {
   "metadata": {
    "ExecuteTime": {
     "end_time": "2025-06-06T00:41:28.822090Z",
     "start_time": "2025-06-06T00:41:28.813650Z"
    }
   },
   "cell_type": "code",
   "source": "df.columns",
   "id": "a1d49a8e1a2b2d3e",
   "outputs": [
    {
     "data": {
      "text/plain": [
       "Index(['('Datetime', '')', 'EURPLN=X_Close', 'GBPPLN=X_Close',\n",
       "       'USDPLN=X_Close', 'EURPLN=X_High', 'GBPPLN=X_High', 'USDPLN=X_High',\n",
       "       'EURPLN=X_Low', 'GBPPLN=X_Low', 'USDPLN=X_Low', 'EURPLN=X_Open',\n",
       "       'GBPPLN=X_Open', 'USDPLN=X_Open', 'EURPLN=X_Volume', 'GBPPLN=X_Volume',\n",
       "       'USDPLN=X_Volume', 'EURPLN=X_price_change', 'EURPLN=X_price_change_abs',\n",
       "       'EURPLN=X_high_low_ratio', 'EURPLN=X_close_open_ratio',\n",
       "       'EURPLN=X_SMA_5D', 'EURPLN=X_SMA_10D', 'EURPLN=X_SMA_25D',\n",
       "       'EURPLN=X_RSI_14D', 'EURPLN=X_BB_Middle_20D', 'EURPLN=X_BB_Upper_20D',\n",
       "       'EURPLN=X_BB_Lower_20D', 'hour', 'day_of_week', 'is_weekend',\n",
       "       'USDPLN=X_price_change', 'USDPLN=X_price_change_abs',\n",
       "       'USDPLN=X_high_low_ratio', 'USDPLN=X_close_open_ratio',\n",
       "       'USDPLN=X_SMA_5D', 'USDPLN=X_SMA_10D', 'USDPLN=X_SMA_25D',\n",
       "       'USDPLN=X_RSI_14D', 'USDPLN=X_BB_Middle_20D', 'USDPLN=X_BB_Upper_20D',\n",
       "       'USDPLN=X_BB_Lower_20D', 'GBPPLN=X_price_change',\n",
       "       'GBPPLN=X_price_change_abs', 'GBPPLN=X_high_low_ratio',\n",
       "       'GBPPLN=X_close_open_ratio', 'GBPPLN=X_SMA_5D', 'GBPPLN=X_SMA_10D',\n",
       "       'GBPPLN=X_SMA_25D', 'GBPPLN=X_RSI_14D', 'GBPPLN=X_BB_Middle_20D',\n",
       "       'GBPPLN=X_BB_Upper_20D', 'GBPPLN=X_BB_Lower_20D',\n",
       "       'reddit_title_sentiment_mean', 'reddit_title_sentiment_std',\n",
       "       'reddit_title_sentiment_count', 'reddit_score_mean', 'reddit_score_sum',\n",
       "       'reddit_score_max', 'reddit_num_comments_mean',\n",
       "       'reddit_num_comments_sum', 'reddit_upvote_ratio_mean', 'fear_greed'],\n",
       "      dtype='object')"
      ]
     },
     "execution_count": 60,
     "metadata": {},
     "output_type": "execute_result"
    }
   ],
   "execution_count": 60
  },
  {
   "metadata": {
    "ExecuteTime": {
     "end_time": "2025-06-06T00:41:30.751234Z",
     "start_time": "2025-06-06T00:41:30.740263Z"
    }
   },
   "cell_type": "code",
   "source": "client.drop_database()",
   "id": "c25ffbe539905228",
   "outputs": [
    {
     "name": "stdout",
     "output_type": "stream",
     "text": [
      "Database 'forex_prediction' has been dropped\n",
      "Remaining databases: ['admin', 'config', 'local']\n"
     ]
    }
   ],
   "execution_count": 61
  },
  {
   "metadata": {
    "ExecuteTime": {
     "end_time": "2025-06-05T20:06:24.222309Z",
     "start_time": "2025-06-05T20:06:24.211928Z"
    }
   },
   "cell_type": "code",
   "source": [
    "query = {\n",
    "    \"('Datetime', '')\": '2025-05-06T00:00:00.000Z'\n",
    "}\n",
    "\n",
    "cursor = client.get_collection('yahoo').find(query).limit(10)\n",
    "for doc in cursor:\n",
    "    print(doc)"
   ],
   "id": "d21436d82de205ac",
   "outputs": [
    {
     "name": "stdout",
     "output_type": "stream",
     "text": [
      "{'_id': ObjectId('6841f54c0d31f9ea5cb26ae3'), \"('Datetime', '')\": '2025-05-06T00:00:00.000Z', \"('Close', 'EURPLN=X')\": 4.2664299011, \"('High', 'EURPLN=X')\": 4.2694997787, \"('Low', 'EURPLN=X')\": 4.2604999542, \"('Open', 'EURPLN=X')\": 4.2642202377, \"('Volume', 'EURPLN=X')\": 0, 'ticker': 'EURPLN=X'}\n",
      "{'_id': ObjectId('6841f54c0d31f9ea5cb26cf9'), \"('Datetime', '')\": '2025-05-06T00:00:00.000Z', \"('Close', 'USDPLN=X')\": 3.7806398869, \"('High', 'USDPLN=X')\": 3.7835700512, \"('Low', 'USDPLN=X')\": 3.7660999298, \"('Open', 'USDPLN=X')\": 3.769119978, \"('Volume', 'USDPLN=X')\": 0, 'ticker': 'USDPLN=X'}\n",
      "{'_id': ObjectId('6841f54d0d31f9ea5cb26f0e'), \"('Datetime', '')\": '2025-05-06T00:00:00.000Z', \"('Close', 'GBPPLN=X')\": 5.0161600113, \"('High', 'GBPPLN=X')\": 5.0184001923, \"('Low', 'GBPPLN=X')\": 5.0079097748, \"('Open', 'GBPPLN=X')\": 5.0109300613, \"('Volume', 'GBPPLN=X')\": 0, 'ticker': 'GBPPLN=X'}\n",
      "{'_id': ObjectId('6841f565d4af2b3be388abb7'), \"('Datetime', '')\": '2025-05-06T00:00:00.000Z', \"('Close', 'EURPLN=X')\": 4.2664299011, \"('High', 'EURPLN=X')\": 4.2694997787, \"('Low', 'EURPLN=X')\": 4.2604999542, \"('Open', 'EURPLN=X')\": 4.2642202377, \"('Volume', 'EURPLN=X')\": 0, 'ticker': 'EURPLN=X'}\n",
      "{'_id': ObjectId('6841f565d4af2b3be388adcd'), \"('Datetime', '')\": '2025-05-06T00:00:00.000Z', \"('Close', 'USDPLN=X')\": 3.7806398869, \"('High', 'USDPLN=X')\": 3.7835700512, \"('Low', 'USDPLN=X')\": 3.7660999298, \"('Open', 'USDPLN=X')\": 3.769119978, \"('Volume', 'USDPLN=X')\": 0, 'ticker': 'USDPLN=X'}\n",
      "{'_id': ObjectId('6841f566d4af2b3be388afe2'), \"('Datetime', '')\": '2025-05-06T00:00:00.000Z', \"('Close', 'GBPPLN=X')\": 5.0161600113, \"('High', 'GBPPLN=X')\": 5.0184001923, \"('Low', 'GBPPLN=X')\": 5.0079097748, \"('Open', 'GBPPLN=X')\": 5.0109300613, \"('Volume', 'GBPPLN=X')\": 0, 'ticker': 'GBPPLN=X'}\n"
     ]
    }
   ],
   "execution_count": 16
  }
 ],
 "metadata": {
  "kernelspec": {
   "display_name": "Python 3",
   "language": "python",
   "name": "python3"
  },
  "language_info": {
   "codemirror_mode": {
    "name": "ipython",
    "version": 2
   },
   "file_extension": ".py",
   "mimetype": "text/x-python",
   "name": "python",
   "nbconvert_exporter": "python",
   "pygments_lexer": "ipython2",
   "version": "2.7.6"
  }
 },
 "nbformat": 4,
 "nbformat_minor": 5
}
